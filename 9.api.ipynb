{
 "cells": [
  {
   "cell_type": "markdown",
   "metadata": {},
   "source": [
    "# Conexiones a APIs\n",
    "\n",
    "\n"
   ]
  },
  {
   "cell_type": "markdown",
   "metadata": {},
   "source": [
    "Vivimos en un mundo movido al ritmo de los datos. Hay muchos datos, de diferentes tipos, que se crean a una velocidad sin precedentes. En este contexto, las APIs (Application Programming Interface), se han consolidado como una herramienta esencial para recolectar datos de forma ordenada. Hay al menos tres razones por las que las APIs son útiles en el mundo de hoy:\n",
    "\n",
    "+ **Los datos cambian rápidamente**. No tiene sentido descargar datos constantemente (datos que en muchos casos se vuelven obsoletos al poco tiempo).\n",
    "+ **Hay veces que no queremos toda la información disponible, sino sólo una parte**. Las APIs nos permiten comtrolar la información que queremos.\n",
    "+ **Ahorro en tareas computacional**. ¿Si hay gente que ha picado datos ya, por que volver a gastar tiempo y recursos en replicar una base de datos?"
   ]
  },
  {
   "cell_type": "markdown",
   "metadata": {},
   "source": [
    "## ¿Qué es una API?\n",
    "\n",
    "Una API es un servidor que nos permite extraer y enviar datos de forma programática. Normalemente, se usan más para extraer que para enviar, y en este tutorial nos centraremos sólo en este aspecto.\n",
    "\n",
    "\n",
    "Para utilizar una API, sólo tenemos que hacer una petición al servidor, exactamente igual que cuando buscamos una URL. La diferencia es que, si la petición a la API es correcta, no sólo recibiremos una respuesta en ese sentido, también recibiremos los datos que hemos pedido en la petición\n"
   ]
  },
  {
   "cell_type": "markdown",
   "metadata": {},
   "source": [
    "Hya millones de APIs disponibles en la red para descargar datos.\n",
    "\n",
    "<center><img src='https://www.dataquest.io/wp-content/uploads/2019/09/api-request.svg' width=\"600\"></center>\n",
    "\n"
   ]
  },
  {
   "cell_type": "markdown",
   "metadata": {},
   "source": [
    "## Haciendo una petición a API con Python\n"
   ]
  },
  {
   "cell_type": "markdown",
   "metadata": {},
   "source": [
    "Para hacer la petición a la API, necesitamos una herramienta para poder realizar peticiones a la web. Vamos a utilizar la librería `requests`. Aquí tienes su [documentación](http://docs.python-requests.org/en/master/#the-user-guide)"
   ]
  },
  {
   "cell_type": "code",
   "execution_count": null,
   "metadata": {},
   "outputs": [],
   "source": [
    "# Importar librería\n",
    "import requests"
   ]
  },
  {
   "cell_type": "markdown",
   "metadata": {},
   "source": [
    "Una vez importada, Requests debe \"pedir\" una página web. \n",
    "\n",
    "Solo tenemos que decirle a Requests que haga lo que se llama *una petición HTTP GET*. Los dos tipos básicos de peticiones en web son las [HTTP GET y las HTTP POST](http://www.w3schools.com/tags/ref_httpmethods.asp). En este caso, puesto que no queremos \"subir\" nada, sino recibir, haremos una HTTP GET con Requests.\n",
    "\n",
    "Los códigos de respuesta son importantes porque nos informan inmediatamente de si algo fue mal durante la petición. Para realizar una petición, vamos a utilizar la función `.get()`, que toma como argumento la URL a la que queremos realizar la petición."
   ]
  },
  {
   "cell_type": "markdown",
   "metadata": {},
   "source": [
    "## Open Notify: Nuestra primera API\n"
   ]
  },
  {
   "cell_type": "markdown",
   "metadata": {},
   "source": [
    "Antes de empezar a trabajar con una API determinada, es muy imrpotante leer su documentación. Las páginas de documentación explican las características de API, como usara, si requieren de autentificación y los diferentes endpoints disponibles.\n",
    "\n",
    "En este caso, vamos a utilizar [Open Notify](http://open-notify.org/), la API de la Estación Espacial Internacional. Es un gran caso de uso, ya que la API no requiere de autentificación, por lo que podemos hacer peticiones directamente. \n",
    "\n",
    "<center><img src='https://upload.wikimedia.org/wikipedia/commons/thumb/0/04/International_Space_Station_after_undocking_of_STS-132.jpg/1200px-International_Space_Station_after_undocking_of_STS-132.jpg' width=\"600\"></center>\n",
    "\n",
    "\n",
    "Es muy frecuente que haya múltiples APIs en un servidor. Cada una de estas APIs se conoce como endpoints. Vamos a utilizar http://api.open-notify.org/astros.json, que devuelve el número de astronautas que están actualmente en la Estación Espacial Internacional."
   ]
  },
  {
   "cell_type": "code",
   "execution_count": 31,
   "metadata": {},
   "outputs": [
    {
     "name": "stdout",
     "output_type": "stream",
     "text": [
      "200\n"
     ]
    }
   ],
   "source": [
    "# Comprobamos que la rspuesta es válida\n",
    "response = requests.get(\"http://api.open-notify.org/astros.json\")\n",
    "print(response.status_code)"
   ]
  },
  {
   "cell_type": "markdown",
   "metadata": {},
   "source": [
    "La mayoría de APIs devuelven los datos en formato JSON. JSON (JavaScript Object Notation) es un formato que permite codificar estructuras de datos para asegurar que son fácilmente entendible por las máquinas. \n",
    "\n",
    "Utilizamos el método `.text` para ver el JSON lo que nos devuelve. "
   ]
  },
  {
   "cell_type": "code",
   "execution_count": 32,
   "metadata": {},
   "outputs": [
    {
     "data": {
      "text/plain": [
       "'{\"people\": [{\"craft\": \"Tiangong\", \"name\": \"Jing Haiping\"}, {\"craft\": \"Tiangong\", \"name\": \"Gui Haichow\"}, {\"craft\": \"Tiangong\", \"name\": \"Zhu Yangzhu\"}, {\"craft\": \"ISS\", \"name\": \"Jasmin Moghbeli\"}, {\"craft\": \"ISS\", \"name\": \"Andreas Mogensen\"}, {\"craft\": \"ISS\", \"name\": \"Satoshi Furukawa\"}, {\"craft\": \"ISS\", \"name\": \"Konstantin Borisov\"}, {\"craft\": \"ISS\", \"name\": \"Oleg Kononenko\"}, {\"craft\": \"ISS\", \"name\": \"Nikolai Chub\"}, {\"craft\": \"ISS\", \"name\": \"Loral O\\'Hara\"}], \"number\": 10, \"message\": \"success\"}'"
      ]
     },
     "execution_count": 32,
     "metadata": {},
     "output_type": "execute_result"
    }
   ],
   "source": [
    "response.text"
   ]
  },
  {
   "cell_type": "code",
   "execution_count": null,
   "metadata": {},
   "outputs": [],
   "source": [
    "type(response.text)"
   ]
  },
  {
   "cell_type": "markdown",
   "metadata": {},
   "source": [
    "El objeto `response` que hemos creado tiene el método `.json()` que permite decodificar un JSON incorporado en Requests\n"
   ]
  },
  {
   "cell_type": "code",
   "execution_count": 33,
   "metadata": {},
   "outputs": [],
   "source": [
    "api_dict= response.json()"
   ]
  },
  {
   "cell_type": "code",
   "execution_count": 34,
   "metadata": {},
   "outputs": [
    {
     "data": {
      "text/plain": [
       "{'people': [{'craft': 'Tiangong', 'name': 'Jing Haiping'},\n",
       "  {'craft': 'Tiangong', 'name': 'Gui Haichow'},\n",
       "  {'craft': 'Tiangong', 'name': 'Zhu Yangzhu'},\n",
       "  {'craft': 'ISS', 'name': 'Jasmin Moghbeli'},\n",
       "  {'craft': 'ISS', 'name': 'Andreas Mogensen'},\n",
       "  {'craft': 'ISS', 'name': 'Satoshi Furukawa'},\n",
       "  {'craft': 'ISS', 'name': 'Konstantin Borisov'},\n",
       "  {'craft': 'ISS', 'name': 'Oleg Kononenko'},\n",
       "  {'craft': 'ISS', 'name': 'Nikolai Chub'},\n",
       "  {'craft': 'ISS', 'name': \"Loral O'Hara\"}],\n",
       " 'number': 10,\n",
       " 'message': 'success'}"
      ]
     },
     "execution_count": 34,
     "metadata": {},
     "output_type": "execute_result"
    }
   ],
   "source": [
    "api_dict"
   ]
  },
  {
   "cell_type": "code",
   "execution_count": 35,
   "metadata": {},
   "outputs": [
    {
     "data": {
      "text/plain": [
       "dict"
      ]
     },
     "execution_count": 35,
     "metadata": {},
     "output_type": "execute_result"
    }
   ],
   "source": [
    "type(api_dict)"
   ]
  },
  {
   "cell_type": "code",
   "execution_count": 36,
   "metadata": {
    "tags": []
   },
   "outputs": [
    {
     "data": {
      "text/plain": [
       "10"
      ]
     },
     "execution_count": 36,
     "metadata": {},
     "output_type": "execute_result"
    }
   ],
   "source": [
    "api_dict['number']"
   ]
  },
  {
   "cell_type": "code",
   "execution_count": 37,
   "metadata": {
    "tags": []
   },
   "outputs": [
    {
     "name": "stdout",
     "output_type": "stream",
     "text": [
      "Jing Haiping\n",
      "Gui Haichow\n",
      "Zhu Yangzhu\n",
      "Jasmin Moghbeli\n",
      "Andreas Mogensen\n",
      "Satoshi Furukawa\n",
      "Konstantin Borisov\n",
      "Oleg Kononenko\n",
      "Nikolai Chub\n",
      "Loral O'Hara\n"
     ]
    }
   ],
   "source": [
    "for member in api_dict['people']:\n",
    "    print(member['name'])"
   ]
  },
  {
   "cell_type": "code",
   "execution_count": 38,
   "metadata": {
    "tags": []
   },
   "outputs": [
    {
     "name": "stdout",
     "output_type": "stream",
     "text": [
      "200\n"
     ]
    },
    {
     "data": {
      "text/plain": [
       "{'message': 'success',\n",
       " 'iss_position': {'latitude': '46.1865', 'longitude': '-10.6727'},\n",
       " 'timestamp': 1698141816}"
      ]
     },
     "execution_count": 38,
     "metadata": {},
     "output_type": "execute_result"
    }
   ],
   "source": [
    "# Comprobamos que la respuesta es válida\n",
    "response = requests.get(\"http://api.open-notify.org/iss-now.json\")\n",
    "print(response.status_code)\n",
    "response.json()"
   ]
  },
  {
   "cell_type": "markdown",
   "metadata": {},
   "source": [
    "## Universidades: Jugando con parámetros\n",
    "\n",
    "La anteior API nos devolvía datos con tan solo llamar a la URL. Dicho de otra forma, la API no requería ningún parámetro. Sin embargo, en la mayoría de ocasiones, los API endpoints requerirán parámetros que nos permitirán afinar nuestra búsqueda. Vamos a ver un ejemplo a partir de una API de [universidades](https://github.com/Hipo/university-domains-list-api).\n",
    "\n",
    "Como podemos ver en la documentación, la API nos devuelve un lista con URL, nombre y país de la mayoría de universidades del mundo.\n",
    "\n",
    "\n",
    "<center><img src='https://img2.rtve.es/v/5551248?w=1600&preview=1585921123546.jpg' width=\"600\"></center>\n",
    "\n"
   ]
  },
  {
   "cell_type": "markdown",
   "metadata": {},
   "source": [
    "Para acceder a la API, tenemos la siguiente URL. SIn mbargo, no es recomendable hacer la petición así, pues va a salir una lista enorme y difícil de digerir. Mejor utilizar los parámetros \"name\" y \"country\" para afinar nuestra búsqueda."
   ]
  },
  {
   "cell_type": "code",
   "execution_count": 39,
   "metadata": {},
   "outputs": [],
   "source": [
    "response = requests.get(\"http://universities.hipolabs.com/search\")"
   ]
  },
  {
   "cell_type": "code",
   "execution_count": 40,
   "metadata": {
    "tags": []
   },
   "outputs": [
    {
     "data": {
      "text/plain": [
       "200"
      ]
     },
     "execution_count": 40,
     "metadata": {},
     "output_type": "execute_result"
    }
   ],
   "source": [
    "response.status_code"
   ]
  },
  {
   "cell_type": "code",
   "execution_count": null,
   "metadata": {
    "tags": []
   },
   "outputs": [],
   "source": [
    "response.json()"
   ]
  },
  {
   "cell_type": "code",
   "execution_count": 42,
   "metadata": {},
   "outputs": [
    {
     "data": {
      "text/plain": [
       "9945"
      ]
     },
     "execution_count": 42,
     "metadata": {},
     "output_type": "execute_result"
    }
   ],
   "source": [
    "len(response.json())"
   ]
  },
  {
   "cell_type": "markdown",
   "metadata": {},
   "source": [
    "Por ejemplo, vamos a buscar la Universidad de Maastricht (Países Bajos)"
   ]
  },
  {
   "cell_type": "code",
   "execution_count": 43,
   "metadata": {},
   "outputs": [],
   "source": [
    "params = {\"name\":\"Maastricht\", \"country\":'Netherlands'}\n",
    "\n",
    "response = requests.get(\"http://universities.hipolabs.com/search?\", params=params)\n",
    "                        \n",
    "                      "
   ]
  },
  {
   "cell_type": "code",
   "execution_count": 44,
   "metadata": {},
   "outputs": [
    {
     "data": {
      "text/plain": [
       "'http://universities.hipolabs.com/search?name=Maastricht&country=Netherlands'"
      ]
     },
     "execution_count": 44,
     "metadata": {},
     "output_type": "execute_result"
    }
   ],
   "source": [
    "response.url"
   ]
  },
  {
   "cell_type": "code",
   "execution_count": 45,
   "metadata": {},
   "outputs": [],
   "source": [
    "um = response.json()"
   ]
  },
  {
   "cell_type": "code",
   "execution_count": 46,
   "metadata": {},
   "outputs": [
    {
     "data": {
      "text/plain": [
       "[{'state-province': None,\n",
       "  'country': 'Netherlands',\n",
       "  'domains': ['unimaas.nl', 'student.maastrichtuniversity.nl'],\n",
       "  'web_pages': ['http://www.unimaas.nl/',\n",
       "   'https://www.maastrichtuniversity.nl/'],\n",
       "  'alpha_two_code': 'NL',\n",
       "  'name': 'Maastricht University'}]"
      ]
     },
     "execution_count": 46,
     "metadata": {},
     "output_type": "execute_result"
    }
   ],
   "source": [
    "um"
   ]
  },
  {
   "cell_type": "markdown",
   "metadata": {},
   "source": [
    "Vemos que en este caso no nos devuelve un diccionario, sino una lista que tiene dentro un diccionario. Para acceder a los elementos, primero tenemos que entrar en el primer (y único) elemento de la lista y luego acceder mediante las keys del diccionario."
   ]
  },
  {
   "cell_type": "code",
   "execution_count": 47,
   "metadata": {},
   "outputs": [
    {
     "data": {
      "text/plain": [
       "list"
      ]
     },
     "execution_count": 47,
     "metadata": {},
     "output_type": "execute_result"
    }
   ],
   "source": [
    "type(um)"
   ]
  },
  {
   "cell_type": "code",
   "execution_count": 48,
   "metadata": {},
   "outputs": [
    {
     "data": {
      "text/plain": [
       "{'state-province': None,\n",
       " 'country': 'Netherlands',\n",
       " 'domains': ['unimaas.nl', 'student.maastrichtuniversity.nl'],\n",
       " 'web_pages': ['http://www.unimaas.nl/',\n",
       "  'https://www.maastrichtuniversity.nl/'],\n",
       " 'alpha_two_code': 'NL',\n",
       " 'name': 'Maastricht University'}"
      ]
     },
     "execution_count": 48,
     "metadata": {},
     "output_type": "execute_result"
    }
   ],
   "source": [
    "um[0]"
   ]
  },
  {
   "cell_type": "code",
   "execution_count": 50,
   "metadata": {},
   "outputs": [
    {
     "data": {
      "text/plain": [
       "['http://www.unimaas.nl/', 'https://www.maastrichtuniversity.nl/']"
      ]
     },
     "execution_count": 50,
     "metadata": {},
     "output_type": "execute_result"
    }
   ],
   "source": [
    "um[0]['web_pages']"
   ]
  },
  {
   "cell_type": "markdown",
   "metadata": {},
   "source": [
    "Vamos a buscar Harvard"
   ]
  },
  {
   "cell_type": "code",
   "execution_count": null,
   "metadata": {},
   "outputs": [],
   "source": [
    "params = {\"name\":\"Harvard\"}\n",
    "\n",
    "response = requests.get(\"http://universities.hipolabs.com/search?\", params=params)\n"
   ]
  },
  {
   "cell_type": "code",
   "execution_count": null,
   "metadata": {
    "tags": []
   },
   "outputs": [],
   "source": [
    "response.url"
   ]
  },
  {
   "cell_type": "code",
   "execution_count": null,
   "metadata": {},
   "outputs": [],
   "source": [
    "response.json()"
   ]
  },
  {
   "cell_type": "markdown",
   "metadata": {},
   "source": [
    "## Currency rates: APIs con autenticación\n",
    "\n",
    "Hasta ahora hemos trabajado con APIs simples, que no requieren ningún requisito para poder usarlas. Lo cierto es que la mayoría de APIs son más complejas y requieren algún tipo de autenticación por razones de seguridad.\n",
    "\n",
    "Uno de los sistemas de autenticación más típicos es el **API KEY**, que nos obligará a hacernos una cuenta y obtener una contraseña para acceder a la API.\n",
    "\n",
    "Vamos a ponerlo en práctica con la API de [Amdoren](https://www.amdoren.com/currency-api/), una empresa que, entre otros servicios, se dedica a calcular valor de divisas.\n",
    "\n"
   ]
  },
  {
   "cell_type": "code",
   "execution_count": 53,
   "metadata": {
    "tags": []
   },
   "outputs": [],
   "source": [
    "params = {\"api_key\":\"T4qe2yXVvGrKHeus68cnrMx2Meru7L\", \"from\":\"EUR\",\"to\":\"USD\",\"amount\":1}\n",
    "\n",
    "response = requests.get(\"https://www.amdoren.com/api/currency.php\", params=params)\n",
    "\n"
   ]
  },
  {
   "cell_type": "code",
   "execution_count": 54,
   "metadata": {
    "tags": []
   },
   "outputs": [
    {
     "data": {
      "text/plain": [
       "{'error': 0, 'error_message': '-', 'amount': 1.06045}"
      ]
     },
     "execution_count": 54,
     "metadata": {},
     "output_type": "execute_result"
    }
   ],
   "source": [
    "response.json()"
   ]
  },
  {
   "cell_type": "code",
   "execution_count": null,
   "metadata": {},
   "outputs": [],
   "source": []
  }
 ],
 "metadata": {
  "kernelspec": {
   "display_name": "Python 3 (ipykernel)",
   "language": "python",
   "name": "python3"
  },
  "language_info": {
   "codemirror_mode": {
    "name": "ipython",
    "version": 3
   },
   "file_extension": ".py",
   "mimetype": "text/x-python",
   "name": "python",
   "nbconvert_exporter": "python",
   "pygments_lexer": "ipython3",
   "version": "3.10.11"
  }
 },
 "nbformat": 4,
 "nbformat_minor": 4
}
